{
  "cells": [
    {
      "cell_type": "markdown",
      "metadata": {},
      "source": [
        "# Derivatives & Volatility \u2014 Analysis Notebook\n",
        "\n",
        "This notebook demonstrates:\n",
        "1. Black\u2013Scholes pricing and implied volatility inversion\n",
        "2. Historical volatility calculation\n",
        "3. A simple Heston calibration on synthetic data\n"
      ]
    },
    {
      "cell_type": "code",
      "execution_count": null,
      "metadata": {},
      "outputs": [],
      "source": [
        "import numpy as np\n",
        "import pandas as pd\n",
        "import matplotlib.pyplot as plt\n",
        "from src.black_scholes import bs_price, implied_vol\n",
        "from src.volatility import historical_volatility\n",
        "from src.heston import heston_price, calibrate_heston\n",
        "\n",
        "# Example: Black-Scholes price and implied vol\n",
        "S = 100.0\n",
        "K = 105.0\n",
        "T = 30/252\n",
        "r = 0.01\n",
        "q = 0.0\n",
        "sigma = 0.22\n",
        "call_price = bs_price(S,K,T,r,q,sigma,'call')\n",
        "iv = implied_vol(call_price, S, K, T, r, q, 'call')\n",
        "print('BS call price:', call_price)\n",
        "print('Recovered implied vol:', iv)\n",
        "\n",
        "# Historical volatility (synthetic prices)\n",
        "dates = pd.date_range('2020-01-01', periods=252)\n",
        "np.random.seed(42)\n",
        "rets = np.random.normal(0, 0.01, size=len(dates))\n",
        "prices = pd.Series(100.0 * np.exp(np.cumsum(rets)), index=dates)\n",
        "hv = historical_volatility(prices, window=21)\n",
        "hv.tail()\n",
        "\n",
        "# Simple Heston calibration on synthetic market\n",
        "true_params = (1.5, 0.04, 0.4, -0.5, 0.04)\n",
        "strikes = [80,90,100,110,120]\n",
        "market = []\n",
        "for K in strikes:\n",
        "    p = heston_price(S, K, T, r, q, *true_params)\n",
        "    market.append({'strike': K, 'T': T, 'option_type': 'call', 'market_price': p})\n",
        "init = (2.0, 0.02, 0.3, -0.3, 0.02)\n",
        "res = calibrate_heston(market, S, r, q, init)\n",
        "print('Calibration result:')\n",
        "print(res)\n"
      ]
    }
  ],
  "metadata": {
    "kernelspec": {
      "display_name": "Python 3",
      "language": "python",
      "name": "python3"
    },
    "language_info": {
      "name": "python",
      "version": "3.8"
    }
  },
  "nbformat": 4,
  "nbformat_minor": 2
}